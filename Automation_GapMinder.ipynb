{
 "cells": [
  {
   "cell_type": "markdown",
   "metadata": {},
   "source": [
    "# Automation: "
   ]
  },
  {
   "cell_type": "code",
   "execution_count": 1,
   "metadata": {},
   "outputs": [
    {
     "data": {
      "text/plain": [
       "'/Users/owner/AllelicAssociation/2018-01-11_Jupyter-Carpentry-Workshop/Code'"
      ]
     },
     "execution_count": 1,
     "metadata": {},
     "output_type": "execute_result"
    }
   ],
   "source": [
    "%pwd"
   ]
  },
  {
   "cell_type": "code",
   "execution_count": 105,
   "metadata": {
    "collapsed": true
   },
   "outputs": [],
   "source": [
    "#Import necessary libraries\n",
    "import pandas as pd\n",
    "import numpy as np\n",
    "import pylab as plt\n",
    "import matplotlib\n",
    "%matplotlib inline"
   ]
  },
  {
   "cell_type": "code",
   "execution_count": 12,
   "metadata": {
    "collapsed": true
   },
   "outputs": [],
   "source": [
    "#Variable that precedes print statements\n",
    "#If verbose = 0: print statements will not print\n",
    "#If verbose = 1: print statements will print\n",
    "VERBOSE = 0"
   ]
  },
  {
   "cell_type": "code",
   "execution_count": 13,
   "metadata": {},
   "outputs": [],
   "source": [
    "#Read in cleaned data as data frame\n",
    "cleaned_data_location = \"../data/gapminder_cleaned.csv\"\n",
    "df = pd.read_csv(cleaned_data_location)\n",
    "df.head()\n",
    "\n",
    "#Debugging sidenote; **Defensive Programming**\n",
    "try:\n",
    "    df = pd.read_csv(cleaned_data_location)\n",
    "    if VERBOSE:\n",
    "        print(df.head())\n",
    "except FileNotFound:\n",
    "    print(\"Couldn't open file. Wrong path? You tired \", cleaned_data_location)"
   ]
  },
  {
   "cell_type": "code",
   "execution_count": 19,
   "metadata": {},
   "outputs": [],
   "source": [
    "#Get years\n",
    "years = df['year'].unique()\n",
    "years.sort()\n",
    "#Add assertion to include assumptions, such as the expected range of the data\n",
    "#Add in prior info; and remember ur assumptions made based on knowledge of data and bio\n",
    "assert min(years)==1952\n",
    "assert max(years)==2007"
   ]
  },
  {
   "cell_type": "markdown",
   "metadata": {},
   "source": [
    "What is the mean life expectancy in Asia through time?"
   ]
  },
  {
   "cell_type": "code",
   "execution_count": 27,
   "metadata": {},
   "outputs": [],
   "source": [
    "#Start with 1952\n",
    "#Narrow down our data to Asia\n",
    "mask_asia = df['continent']=='asia' #This is a series of true and false in one column\n",
    "df_asia = df[mask_asia]\n",
    "\n",
    "mask_1952 = df_asia['year']==1952\n",
    "df_1952 = df_asia[mask_1952]\n",
    "\n",
    "meanAsia1952 = np.mean(df_1952['lifeexp'])"
   ]
  },
  {
   "cell_type": "code",
   "execution_count": 33,
   "metadata": {},
   "outputs": [
    {
     "data": {
      "text/html": [
       "<div>\n",
       "<style>\n",
       "    .dataframe thead tr:only-child th {\n",
       "        text-align: right;\n",
       "    }\n",
       "\n",
       "    .dataframe thead th {\n",
       "        text-align: left;\n",
       "    }\n",
       "\n",
       "    .dataframe tbody tr th {\n",
       "        vertical-align: top;\n",
       "    }\n",
       "</style>\n",
       "<table border=\"1\" class=\"dataframe\">\n",
       "  <thead>\n",
       "    <tr style=\"text-align: right;\">\n",
       "      <th></th>\n",
       "      <th>Continent</th>\n",
       "      <th>Year</th>\n",
       "      <th>LifeExp</th>\n",
       "    </tr>\n",
       "  </thead>\n",
       "  <tbody>\n",
       "    <tr>\n",
       "      <th>0</th>\n",
       "      <td>asia</td>\n",
       "      <td>1952</td>\n",
       "      <td>46.314394</td>\n",
       "    </tr>\n",
       "    <tr>\n",
       "      <th>1</th>\n",
       "      <td>asia</td>\n",
       "      <td>1957</td>\n",
       "      <td>49.318544</td>\n",
       "    </tr>\n",
       "    <tr>\n",
       "      <th>2</th>\n",
       "      <td>asia</td>\n",
       "      <td>1962</td>\n",
       "      <td>51.563223</td>\n",
       "    </tr>\n",
       "    <tr>\n",
       "      <th>3</th>\n",
       "      <td>asia</td>\n",
       "      <td>1967</td>\n",
       "      <td>54.663640</td>\n",
       "    </tr>\n",
       "    <tr>\n",
       "      <th>4</th>\n",
       "      <td>asia</td>\n",
       "      <td>1972</td>\n",
       "      <td>57.319269</td>\n",
       "    </tr>\n",
       "    <tr>\n",
       "      <th>5</th>\n",
       "      <td>asia</td>\n",
       "      <td>1977</td>\n",
       "      <td>59.610556</td>\n",
       "    </tr>\n",
       "    <tr>\n",
       "      <th>6</th>\n",
       "      <td>asia</td>\n",
       "      <td>1982</td>\n",
       "      <td>62.617939</td>\n",
       "    </tr>\n",
       "    <tr>\n",
       "      <th>7</th>\n",
       "      <td>asia</td>\n",
       "      <td>1987</td>\n",
       "      <td>64.851182</td>\n",
       "    </tr>\n",
       "    <tr>\n",
       "      <th>8</th>\n",
       "      <td>asia</td>\n",
       "      <td>1992</td>\n",
       "      <td>66.537212</td>\n",
       "    </tr>\n",
       "    <tr>\n",
       "      <th>9</th>\n",
       "      <td>asia</td>\n",
       "      <td>1997</td>\n",
       "      <td>68.020515</td>\n",
       "    </tr>\n",
       "    <tr>\n",
       "      <th>10</th>\n",
       "      <td>asia</td>\n",
       "      <td>2002</td>\n",
       "      <td>69.233879</td>\n",
       "    </tr>\n",
       "    <tr>\n",
       "      <th>11</th>\n",
       "      <td>asia</td>\n",
       "      <td>2007</td>\n",
       "      <td>70.728485</td>\n",
       "    </tr>\n",
       "  </tbody>\n",
       "</table>\n",
       "</div>"
      ],
      "text/plain": [
       "   Continent  Year    LifeExp\n",
       "0       asia  1952  46.314394\n",
       "1       asia  1957  49.318544\n",
       "2       asia  1962  51.563223\n",
       "3       asia  1967  54.663640\n",
       "4       asia  1972  57.319269\n",
       "5       asia  1977  59.610556\n",
       "6       asia  1982  62.617939\n",
       "7       asia  1987  64.851182\n",
       "8       asia  1992  66.537212\n",
       "9       asia  1997  68.020515\n",
       "10      asia  2002  69.233879\n",
       "11      asia  2007  70.728485"
      ]
     },
     "execution_count": 33,
     "metadata": {},
     "output_type": "execute_result"
    }
   ],
   "source": [
    "#Alternative to typing in each year one at a time\n",
    "#What years do we have info for in Asia to loop over\n",
    "\n",
    "#Narrow down our data to Asia\n",
    "mask_asia = df['continent']=='asia' #This is a series of true and false in one column\n",
    "df_asia = df[mask_asia]\n",
    "\n",
    "#What years do we have for Asia\n",
    "yearsAsia = df_asia['year'].unique()\n",
    "summary = []\n",
    "#Go through each year\n",
    "for yr in yearsAsia:\n",
    "    if VERBOSE:\n",
    "        print(year)\n",
    "    mask_yr = df_asia['year']==yr\n",
    "    df_yr = df_asia[mask_yr]\n",
    "    meanValue = np.mean(df_yr['lifeexp'])\n",
    "    summary.append(['asia',yr,meanValue])\n",
    "#Turn list to data frame\n",
    "AsiaMeans = pd.DataFrame(summary, columns=['Continent','Year','LifeExp'])\n",
    "AsiaMeans"
   ]
  },
  {
   "cell_type": "markdown",
   "metadata": {},
   "source": [
    "How could we use variables to make it easier to re-run this across continents?"
   ]
  },
  {
   "cell_type": "code",
   "execution_count": 47,
   "metadata": {},
   "outputs": [
    {
     "data": {
      "text/html": [
       "<div>\n",
       "<style>\n",
       "    .dataframe thead tr:only-child th {\n",
       "        text-align: right;\n",
       "    }\n",
       "\n",
       "    .dataframe thead th {\n",
       "        text-align: left;\n",
       "    }\n",
       "\n",
       "    .dataframe tbody tr th {\n",
       "        vertical-align: top;\n",
       "    }\n",
       "</style>\n",
       "<table border=\"1\" class=\"dataframe\">\n",
       "  <thead>\n",
       "    <tr style=\"text-align: right;\">\n",
       "      <th></th>\n",
       "      <th>Year</th>\n",
       "      <th>LifeExp</th>\n",
       "    </tr>\n",
       "    <tr>\n",
       "      <th>Continent</th>\n",
       "      <th></th>\n",
       "      <th></th>\n",
       "    </tr>\n",
       "  </thead>\n",
       "  <tbody>\n",
       "    <tr>\n",
       "      <th>africa</th>\n",
       "      <td>1979.5</td>\n",
       "      <td>48.865330</td>\n",
       "    </tr>\n",
       "    <tr>\n",
       "      <th>americas</th>\n",
       "      <td>1979.5</td>\n",
       "      <td>64.658737</td>\n",
       "    </tr>\n",
       "    <tr>\n",
       "      <th>asia</th>\n",
       "      <td>1979.5</td>\n",
       "      <td>60.064903</td>\n",
       "    </tr>\n",
       "    <tr>\n",
       "      <th>europe</th>\n",
       "      <td>1979.5</td>\n",
       "      <td>71.903686</td>\n",
       "    </tr>\n",
       "    <tr>\n",
       "      <th>oceania</th>\n",
       "      <td>1979.5</td>\n",
       "      <td>74.326208</td>\n",
       "    </tr>\n",
       "  </tbody>\n",
       "</table>\n",
       "</div>"
      ],
      "text/plain": [
       "             Year    LifeExp\n",
       "Continent                   \n",
       "africa     1979.5  48.865330\n",
       "americas   1979.5  64.658737\n",
       "asia       1979.5  60.064903\n",
       "europe     1979.5  71.903686\n",
       "oceania    1979.5  74.326208"
      ]
     },
     "execution_count": 47,
     "metadata": {},
     "output_type": "execute_result"
    }
   ],
   "source": [
    "VERBOSE = 0\n",
    "#Now loop over each continent and then each year\n",
    "meanContinentsPerYear = []\n",
    "#Run through continent\n",
    "continents = df['continent'].unique()\n",
    "for cont in continents:\n",
    "    mask_cont = df['continent'] == cont\n",
    "    df_cont = df[mask_cont]\n",
    "    #Run through the years\n",
    "    yrCont = df_cont['year'].unique()\n",
    "    for yr in yrCont:\n",
    "        if VERBOSE:\n",
    "            print(yr,cont)\n",
    "        mask_yr = df_cont['year']==yr\n",
    "        df_yr = df_cont[mask_yr]\n",
    "        meanValue = np.mean(df_yr['lifeexp'])\n",
    "        meanContinentsPerYear.append([cont,yr,meanValue])\n",
    "        \n",
    "\n",
    "#Turn list to data frame\n",
    "meanContinentsPerYear = pd.DataFrame(meanContinentsPerYear, columns=['Continent','Year','LifeExp'])\n",
    "\n",
    "#Get the mean over the years for each continent\n",
    "meanContinentsPerYear.groupby('Continent').mean()"
   ]
  },
  {
   "cell_type": "markdown",
   "metadata": {},
   "source": [
    "**Functions: ** Convert this into a function to be modular"
   ]
  },
  {
   "cell_type": "code",
   "execution_count": 82,
   "metadata": {},
   "outputs": [],
   "source": [
    "#Write a function to calculate mean value per year for a continent for categories\n",
    "#Return data frame with continent, year, and mean value for the category\n",
    "def calculate_mean_over_time(data,category,continent):\n",
    "    \"\"\"#Write a function to calculate mean value per year for a continent for categories\n",
    "        #Return data frame with continent, year, and mean value for the category\"\"\"\n",
    "    #Create a mask that selects the continent of choice\n",
    "    mask_continent = data['continent']==continent #Requires that data frame has a column named 'continent'\n",
    "    data_continent = data[mask_continent]\n",
    "    \n",
    "    #Loop through years and calculate the mean\n",
    "    years = data_continent['year'].unique() #Requires that data frame has a column named 'year'\n",
    "    summary = []\n",
    "    for year in years:\n",
    "        mask_year = data_continent['year']==year\n",
    "        data_year = data_continent[mask_year]\n",
    "        value= np.mean(data_year[category])\n",
    "        summary.append([continent,year,value])\n",
    "    summary = pd.DataFrame(summary,columns = [\"Continent\",\"Year\",category])\n",
    "    return summary"
   ]
  },
  {
   "cell_type": "code",
   "execution_count": 97,
   "metadata": {},
   "outputs": [],
   "source": [
    "#Redo function but to calculate median \n",
    "#Assert that hard wired column names are fine\n",
    "\n",
    "#Write a function to calculate statistic value per year for a continent for categories\n",
    "#Return data frame with continent, year, and mean value for the category\n",
    "#Specify statistic you want: np.mean,np.media,np.min\n",
    "def calculate_statistic_over_time(data,category,continent,statistic): #Specify statistic you want\n",
    "    \"\"\"Calculate values of a statistic through time\n",
    "    Args:\n",
    "        data: pandas data frame that includes columns: 'continent' and 'year'\n",
    "        category: string that is one of the column headings in data\n",
    "        continent: string that is one of the values in the continent column\n",
    "        statistic: function that can operate on a list of numbers; No paranthesis (e.g. np.mean)\n",
    "    Return:\n",
    "        pandas data frame with the headings Continent, Year, and Category\n",
    "        \"\"\"\n",
    "    #Assert that column names are in your data \n",
    "    assert ('continent'in data.columns.values)\n",
    "    #Check that continent used for function by user is actually in data frame\n",
    "    assert (continent in data['continent'].unique())\n",
    "    #Assert that year name in your data\n",
    "    assert ('year' in data.columns.values)\n",
    "    \n",
    "    #Create a mask that selects the continent of choice\n",
    "    mask_continent = data['continent']==continent #Requires that data frame has a column named 'continent'\n",
    "    data_continent = data[mask_continent]\n",
    "    \n",
    "    #Loop through years and calculate the mean\n",
    "    years = data_continent['year'].unique() #Requires that data frame has a column named 'year'\n",
    "    summary = []\n",
    "    for year in years:\n",
    "        mask_year = data_continent['year']==year\n",
    "        data_year = data_continent[mask_year]\n",
    "        value= statistic(data_year[category])\n",
    "        summary.append([continent,year,value])\n",
    "    summary = pd.DataFrame(summary,columns = [\"Continent\",\"Year\",category])\n",
    "    return summary"
   ]
  },
  {
   "cell_type": "code",
   "execution_count": 106,
   "metadata": {},
   "outputs": [
    {
     "data": {
      "image/png": "[encoded data removed]",
      "text/plain": [
       "<matplotlib.figure.Figure at 0x110bd3e48>"
      ]
     },
     "metadata": {},
     "output_type": "display_data"
    }
   ],
   "source": [
    "#Use this function to plot mean life expectancy over time across continents\n",
    "continents = df['continent'].unique()\n",
    "#Generate figure to add plots to it in loop\n",
    "fig, ax = plt.subplots()\n",
    "for continent in continents:\n",
    "    output = calculate_statistic_over_time(df,'lifeexp',continent, np.mean)\n",
    "    output.plot.line('Year','lifeexp',ax=ax,label=continent)"
   ]
  },
  {
   "cell_type": "markdown",
   "metadata": {},
   "source": [
    "Put this as a helper file with all of your functions\n",
    "Import this file after downloading as python file .py\n",
    "import sys\n",
    "import os\n",
    "scriptpath = \"/home/path-to-file/code\""
   ]
  }
 ],
 "metadata": {
  "kernelspec": {
   "display_name": "Python 3",
   "language": "python",
   "name": "python3"
  },
  "language_info": {
   "codemirror_mode": {
    "name": "ipython",
    "version": 3
   },
   "file_extension": ".py",
   "mimetype": "text/x-python",
   "name": "python",
   "nbconvert_exporter": "python",
   "pygments_lexer": "ipython3",
   "version": "3.6.1"
  }
 },
 "nbformat": 4,
 "nbformat_minor": 2
}
