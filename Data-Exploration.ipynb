{
 "cells": [
  {
   "cell_type": "markdown",
   "metadata": {},
   "source": [
    "# Data Exploration Notebook"
   ]
  },
  {
   "cell_type": "markdown",
   "metadata": {},
   "source": [
    "This is to explore the **test data**\n",
    "\n",
    "This is also a **Pandas Showcase**"
   ]
  },
  {
   "cell_type": "code",
   "execution_count": 2,
   "metadata": {
    "collapsed": true
   },
   "outputs": [],
   "source": [
    "import pandas as pd\n",
    "import numpy as np\n",
    "import matplotlib.pyplot as plt\n",
    "%matplotlib inline"
   ]
  },
  {
   "cell_type": "code",
   "execution_count": 3,
   "metadata": {
    "collapsed": true
   },
   "outputs": [],
   "source": [
    "#Load in the data\n",
    "gapMinder = pd.read_table(\"../Data/gapminderDataFiveYear_superDirty.txt\", sep = \"\\t\")\n",
    "#Can get back one folder to 2018 file\n"
   ]
  },
  {
   "cell_type": "code",
   "execution_count": 5,
   "metadata": {},
   "outputs": [
    {
     "data": {
      "text/html": [
       "<div>\n",
       "<style>\n",
       "    .dataframe thead tr:only-child th {\n",
       "        text-align: right;\n",
       "    }\n",
       "\n",
       "    .dataframe thead th {\n",
       "        text-align: left;\n",
       "    }\n",
       "\n",
       "    .dataframe tbody tr th {\n",
       "        vertical-align: top;\n",
       "    }\n",
       "</style>\n",
       "<table border=\"1\" class=\"dataframe\">\n",
       "  <thead>\n",
       "    <tr style=\"text-align: right;\">\n",
       "      <th></th>\n",
       "      <th>year</th>\n",
       "      <th>pop</th>\n",
       "      <th>life Exp</th>\n",
       "      <th>gdpPercap</th>\n",
       "      <th>region</th>\n",
       "    </tr>\n",
       "  </thead>\n",
       "  <tbody>\n",
       "    <tr>\n",
       "      <th>0</th>\n",
       "      <td>1952.0</td>\n",
       "      <td>8425333.0</td>\n",
       "      <td>28.801</td>\n",
       "      <td>779.445314</td>\n",
       "      <td>Asia_Afghanistan</td>\n",
       "    </tr>\n",
       "    <tr>\n",
       "      <th>1</th>\n",
       "      <td>1957.0</td>\n",
       "      <td>9240934.0</td>\n",
       "      <td>30.332</td>\n",
       "      <td>820.853030</td>\n",
       "      <td>Asia_Afghanistan</td>\n",
       "    </tr>\n",
       "    <tr>\n",
       "      <th>2</th>\n",
       "      <td>1957.0</td>\n",
       "      <td>9240934.0</td>\n",
       "      <td>30.332</td>\n",
       "      <td>820.853030</td>\n",
       "      <td>Asia_Afghanistan</td>\n",
       "    </tr>\n",
       "    <tr>\n",
       "      <th>3</th>\n",
       "      <td>1962.0</td>\n",
       "      <td>10267083.0</td>\n",
       "      <td>31.997</td>\n",
       "      <td>853.100710</td>\n",
       "      <td>Asia_Afghanistan</td>\n",
       "    </tr>\n",
       "    <tr>\n",
       "      <th>4</th>\n",
       "      <td>1962.0</td>\n",
       "      <td>NaN</td>\n",
       "      <td>31.997</td>\n",
       "      <td>NaN</td>\n",
       "      <td>Asia_Afghanistan</td>\n",
       "    </tr>\n",
       "  </tbody>\n",
       "</table>\n",
       "</div>"
      ],
      "text/plain": [
       "     year         pop  life Exp   gdpPercap            region\n",
       "0  1952.0   8425333.0    28.801  779.445314  Asia_Afghanistan\n",
       "1  1957.0   9240934.0    30.332  820.853030  Asia_Afghanistan\n",
       "2  1957.0   9240934.0    30.332  820.853030  Asia_Afghanistan\n",
       "3  1962.0  10267083.0    31.997  853.100710  Asia_Afghanistan\n",
       "4  1962.0         NaN    31.997         NaN  Asia_Afghanistan"
      ]
     },
     "execution_count": 5,
     "metadata": {},
     "output_type": "execute_result"
    }
   ],
   "source": [
    "gapMinder.head()"
   ]
  },
  {
   "cell_type": "code",
   "execution_count": 6,
   "metadata": {},
   "outputs": [
    {
     "data": {
      "text/html": [
       "<div>\n",
       "<style>\n",
       "    .dataframe thead tr:only-child th {\n",
       "        text-align: right;\n",
       "    }\n",
       "\n",
       "    .dataframe thead th {\n",
       "        text-align: left;\n",
       "    }\n",
       "\n",
       "    .dataframe tbody tr th {\n",
       "        vertical-align: top;\n",
       "    }\n",
       "</style>\n",
       "<table border=\"1\" class=\"dataframe\">\n",
       "  <thead>\n",
       "    <tr style=\"text-align: right;\">\n",
       "      <th></th>\n",
       "      <th>year</th>\n",
       "      <th>pop</th>\n",
       "      <th>life Exp</th>\n",
       "      <th>gdpPercap</th>\n",
       "      <th>region</th>\n",
       "    </tr>\n",
       "  </thead>\n",
       "  <tbody>\n",
       "    <tr>\n",
       "      <th>1715</th>\n",
       "      <td>1987.0</td>\n",
       "      <td>9216418.0</td>\n",
       "      <td>62.351</td>\n",
       "      <td>706.157306</td>\n",
       "      <td>Africa_Zimbabwe</td>\n",
       "    </tr>\n",
       "    <tr>\n",
       "      <th>1716</th>\n",
       "      <td>1992.0</td>\n",
       "      <td>10704340.0</td>\n",
       "      <td>60.377</td>\n",
       "      <td>693.420786</td>\n",
       "      <td>Africa_Zimbabwe</td>\n",
       "    </tr>\n",
       "    <tr>\n",
       "      <th>1717</th>\n",
       "      <td>1997.0</td>\n",
       "      <td>11404948.0</td>\n",
       "      <td>46.809</td>\n",
       "      <td>792.449960</td>\n",
       "      <td>Africa_Zimbabwe</td>\n",
       "    </tr>\n",
       "    <tr>\n",
       "      <th>1718</th>\n",
       "      <td>2002.0</td>\n",
       "      <td>11926563.0</td>\n",
       "      <td>39.989</td>\n",
       "      <td>672.038623</td>\n",
       "      <td>Africa_Zimbabwe</td>\n",
       "    </tr>\n",
       "    <tr>\n",
       "      <th>1719</th>\n",
       "      <td>2007.0</td>\n",
       "      <td>12311143.0</td>\n",
       "      <td>43.487</td>\n",
       "      <td>469.709298</td>\n",
       "      <td>Africa_Zimbabwe</td>\n",
       "    </tr>\n",
       "  </tbody>\n",
       "</table>\n",
       "</div>"
      ],
      "text/plain": [
       "        year         pop  life Exp   gdpPercap           region\n",
       "1715  1987.0   9216418.0    62.351  706.157306  Africa_Zimbabwe\n",
       "1716  1992.0  10704340.0    60.377  693.420786  Africa_Zimbabwe\n",
       "1717  1997.0  11404948.0    46.809  792.449960  Africa_Zimbabwe\n",
       "1718  2002.0  11926563.0    39.989  672.038623  Africa_Zimbabwe\n",
       "1719  2007.0  12311143.0    43.487  469.709298  Africa_Zimbabwe"
      ]
     },
     "execution_count": 6,
     "metadata": {},
     "output_type": "execute_result"
    }
   ],
   "source": [
    "gapMinder.tail()"
   ]
  },
  {
   "cell_type": "code",
   "execution_count": 7,
   "metadata": {},
   "outputs": [
    {
     "data": {
      "text/plain": [
       "array(['year', 'pop', 'life Exp', 'gdpPercap', 'region'], dtype=object)"
      ]
     },
     "execution_count": 7,
     "metadata": {},
     "output_type": "execute_result"
    }
   ],
   "source": [
    "gapMinder.columns.values"
   ]
  },
  {
   "cell_type": "code",
   "execution_count": 9,
   "metadata": {},
   "outputs": [
    {
     "data": {
      "text/plain": [
       "pop          1\n",
       "year         1\n",
       "life Exp     1\n",
       "region       1\n",
       "gdpPercap    1\n",
       "dtype: int64"
      ]
     },
     "execution_count": 9,
     "metadata": {},
     "output_type": "execute_result"
    }
   ],
   "source": [
    "gapMinder.columns.value_counts()"
   ]
  },
  {
   "cell_type": "code",
   "execution_count": 11,
   "metadata": {},
   "outputs": [
    {
     "data": {
      "text/plain": [
       "(1720, 5)"
      ]
     },
     "execution_count": 11,
     "metadata": {},
     "output_type": "execute_result"
    }
   ],
   "source": [
    "gapMinder.shape"
   ]
  },
  {
   "cell_type": "code",
   "execution_count": 12,
   "metadata": {},
   "outputs": [
    {
     "data": {
      "text/plain": [
       "pandas.core.frame.DataFrame"
      ]
     },
     "execution_count": 12,
     "metadata": {},
     "output_type": "execute_result"
    }
   ],
   "source": [
    "type(gapMinder)"
   ]
  },
  {
   "cell_type": "code",
   "execution_count": 13,
   "metadata": {},
   "outputs": [
    {
     "name": "stdout",
     "output_type": "stream",
     "text": [
      "<class 'pandas.core.frame.DataFrame'>\n",
      "RangeIndex: 1720 entries, 0 to 1719\n",
      "Data columns (total 5 columns):\n",
      "year         1717 non-null float64\n",
      "pop          1715 non-null float64\n",
      "life Exp     1719 non-null float64\n",
      "gdpPercap    1718 non-null float64\n",
      "region       1720 non-null object\n",
      "dtypes: float64(4), object(1)\n",
      "memory usage: 67.3+ KB\n"
     ]
    }
   ],
   "source": [
    "gapMinder.info()"
   ]
  },
  {
   "cell_type": "code",
   "execution_count": 15,
   "metadata": {},
   "outputs": [
    {
     "data": {
      "text/html": [
       "<div>\n",
       "<style>\n",
       "    .dataframe thead tr:only-child th {\n",
       "        text-align: right;\n",
       "    }\n",
       "\n",
       "    .dataframe thead th {\n",
       "        text-align: left;\n",
       "    }\n",
       "\n",
       "    .dataframe tbody tr th {\n",
       "        vertical-align: top;\n",
       "    }\n",
       "</style>\n",
       "<table border=\"1\" class=\"dataframe\">\n",
       "  <thead>\n",
       "    <tr style=\"text-align: right;\">\n",
       "      <th></th>\n",
       "      <th>year</th>\n",
       "      <th>pop</th>\n",
       "      <th>life Exp</th>\n",
       "      <th>gdpPercap</th>\n",
       "    </tr>\n",
       "  </thead>\n",
       "  <tbody>\n",
       "    <tr>\n",
       "      <th>count</th>\n",
       "      <td>1717.000000</td>\n",
       "      <td>1.715000e+03</td>\n",
       "      <td>1719.000000</td>\n",
       "      <td>1718.000000</td>\n",
       "    </tr>\n",
       "    <tr>\n",
       "      <th>mean</th>\n",
       "      <td>1979.449039</td>\n",
       "      <td>2.954973e+07</td>\n",
       "      <td>59.436493</td>\n",
       "      <td>7208.452200</td>\n",
       "    </tr>\n",
       "    <tr>\n",
       "      <th>std</th>\n",
       "      <td>17.228189</td>\n",
       "      <td>1.058366e+08</td>\n",
       "      <td>12.931041</td>\n",
       "      <td>9838.590984</td>\n",
       "    </tr>\n",
       "    <tr>\n",
       "      <th>min</th>\n",
       "      <td>1952.000000</td>\n",
       "      <td>6.001100e+04</td>\n",
       "      <td>23.599000</td>\n",
       "      <td>241.165877</td>\n",
       "    </tr>\n",
       "    <tr>\n",
       "      <th>25%</th>\n",
       "      <td>1967.000000</td>\n",
       "      <td>2.807799e+06</td>\n",
       "      <td>48.143000</td>\n",
       "      <td>1203.161887</td>\n",
       "    </tr>\n",
       "    <tr>\n",
       "      <th>50%</th>\n",
       "      <td>1977.000000</td>\n",
       "      <td>7.026113e+06</td>\n",
       "      <td>60.523000</td>\n",
       "      <td>3529.585686</td>\n",
       "    </tr>\n",
       "    <tr>\n",
       "      <th>75%</th>\n",
       "      <td>1992.000000</td>\n",
       "      <td>1.959366e+07</td>\n",
       "      <td>70.840500</td>\n",
       "      <td>9322.285886</td>\n",
       "    </tr>\n",
       "    <tr>\n",
       "      <th>max</th>\n",
       "      <td>2007.000000</td>\n",
       "      <td>1.318683e+09</td>\n",
       "      <td>82.603000</td>\n",
       "      <td>113523.132900</td>\n",
       "    </tr>\n",
       "  </tbody>\n",
       "</table>\n",
       "</div>"
      ],
      "text/plain": [
       "              year           pop     life Exp      gdpPercap\n",
       "count  1717.000000  1.715000e+03  1719.000000    1718.000000\n",
       "mean   1979.449039  2.954973e+07    59.436493    7208.452200\n",
       "std      17.228189  1.058366e+08    12.931041    9838.590984\n",
       "min    1952.000000  6.001100e+04    23.599000     241.165877\n",
       "25%    1967.000000  2.807799e+06    48.143000    1203.161887\n",
       "50%    1977.000000  7.026113e+06    60.523000    3529.585686\n",
       "75%    1992.000000  1.959366e+07    70.840500    9322.285886\n",
       "max    2007.000000  1.318683e+09    82.603000  113523.132900"
      ]
     },
     "execution_count": 15,
     "metadata": {},
     "output_type": "execute_result"
    }
   ],
   "source": [
    "gapMinder.describe()"
   ]
  },
  {
   "cell_type": "code",
   "execution_count": 21,
   "metadata": {},
   "outputs": [
    {
     "data": {
      "text/html": [
       "<div>\n",
       "<style>\n",
       "    .dataframe thead tr:only-child th {\n",
       "        text-align: right;\n",
       "    }\n",
       "\n",
       "    .dataframe thead th {\n",
       "        text-align: left;\n",
       "    }\n",
       "\n",
       "    .dataframe tbody tr th {\n",
       "        vertical-align: top;\n",
       "    }\n",
       "</style>\n",
       "<table border=\"1\" class=\"dataframe\">\n",
       "  <thead>\n",
       "    <tr style=\"text-align: right;\">\n",
       "      <th></th>\n",
       "      <th>pop</th>\n",
       "      <th>life Exp</th>\n",
       "      <th>gdpPercap</th>\n",
       "    </tr>\n",
       "  </thead>\n",
       "  <tbody>\n",
       "    <tr>\n",
       "      <th>count</th>\n",
       "      <td>1.715000e+03</td>\n",
       "      <td>1719.000000</td>\n",
       "      <td>1718.000000</td>\n",
       "    </tr>\n",
       "    <tr>\n",
       "      <th>mean</th>\n",
       "      <td>2.954973e+07</td>\n",
       "      <td>59.436493</td>\n",
       "      <td>7208.452200</td>\n",
       "    </tr>\n",
       "    <tr>\n",
       "      <th>std</th>\n",
       "      <td>1.058366e+08</td>\n",
       "      <td>12.931041</td>\n",
       "      <td>9838.590984</td>\n",
       "    </tr>\n",
       "    <tr>\n",
       "      <th>min</th>\n",
       "      <td>6.001100e+04</td>\n",
       "      <td>23.599000</td>\n",
       "      <td>241.165877</td>\n",
       "    </tr>\n",
       "    <tr>\n",
       "      <th>25%</th>\n",
       "      <td>2.807799e+06</td>\n",
       "      <td>48.143000</td>\n",
       "      <td>1203.161887</td>\n",
       "    </tr>\n",
       "    <tr>\n",
       "      <th>50%</th>\n",
       "      <td>7.026113e+06</td>\n",
       "      <td>60.523000</td>\n",
       "      <td>3529.585686</td>\n",
       "    </tr>\n",
       "    <tr>\n",
       "      <th>75%</th>\n",
       "      <td>1.959366e+07</td>\n",
       "      <td>70.840500</td>\n",
       "      <td>9322.285886</td>\n",
       "    </tr>\n",
       "    <tr>\n",
       "      <th>max</th>\n",
       "      <td>1.318683e+09</td>\n",
       "      <td>82.603000</td>\n",
       "      <td>113523.132900</td>\n",
       "    </tr>\n",
       "  </tbody>\n",
       "</table>\n",
       "</div>"
      ],
      "text/plain": [
       "                pop     life Exp      gdpPercap\n",
       "count  1.715000e+03  1719.000000    1718.000000\n",
       "mean   2.954973e+07    59.436493    7208.452200\n",
       "std    1.058366e+08    12.931041    9838.590984\n",
       "min    6.001100e+04    23.599000     241.165877\n",
       "25%    2.807799e+06    48.143000    1203.161887\n",
       "50%    7.026113e+06    60.523000    3529.585686\n",
       "75%    1.959366e+07    70.840500    9322.285886\n",
       "max    1.318683e+09    82.603000  113523.132900"
      ]
     },
     "execution_count": 21,
     "metadata": {},
     "output_type": "execute_result"
    }
   ],
   "source": [
    "gapMinder[['pop','life Exp','gdpPercap']].describe()"
   ]
  },
  {
   "cell_type": "code",
   "execution_count": 24,
   "metadata": {},
   "outputs": [
    {
     "name": "stdout",
     "output_type": "stream",
     "text": [
      "23.599\n",
      "82.603\n"
     ]
    }
   ],
   "source": [
    "print(gapMinder[\"life Exp\"].min())\n",
    "print(gapMinder[\"life Exp\"].max())"
   ]
  },
  {
   "cell_type": "code",
   "execution_count": 25,
   "metadata": {},
   "outputs": [
    {
     "data": {
      "text/plain": [
       "82.602999999999994"
      ]
     },
     "execution_count": 25,
     "metadata": {},
     "output_type": "execute_result"
    }
   ],
   "source": [
    "gapMinder[\"life Exp\"].min()\n",
    "gapMinder[\"life Exp\"].max()"
   ]
  },
  {
   "cell_type": "code",
   "execution_count": 26,
   "metadata": {},
   "outputs": [
    {
     "name": "stdout",
     "output_type": "stream",
     "text": [
      "151\n"
     ]
    }
   ],
   "source": [
    "#Get a list of the unique regions\n",
    "uniqueRegions = gapMinder['region'].unique()\n",
    "print(len(uniqueRegions))"
   ]
  },
  {
   "cell_type": "code",
   "execution_count": 27,
   "metadata": {},
   "outputs": [
    {
     "data": {
      "text/plain": [
       "Europe_Netherlands                         15\n",
       "Americas_Dominican Republic                14\n",
       "Asia_Afghanistan                           14\n",
       "Americas_Bolivia                           14\n",
       "Africa_Algeria                             13\n",
       "Asia_West Bank and Gaza                    13\n",
       "Americas_Argentina                         13\n",
       "Africa_Burundi                             13\n",
       "Asia_Bangladesh                            13\n",
       "Africa_Nigeria                             13\n",
       "Americas_Peru                              12\n",
       "Europe_Sweden                              12\n",
       "Europe_Slovak Republic                     12\n",
       "Europe_United Kingdom                      12\n",
       "Europe_Croatia                             12\n",
       "Europe_Albania                             12\n",
       "Americas_Nicaragua                         12\n",
       "Asia_Hong Kong, China                      12\n",
       "Asia_Israel                                12\n",
       "Europe_Finland                             12\n",
       "Asia_Taiwan                                12\n",
       "Africa_Mauritania                          12\n",
       "Europe_Denmark                             12\n",
       "Europe_France                              12\n",
       "Asia_India                                 12\n",
       "Americas_Trinidad and Tobago               12\n",
       "Africa_Sudan                               12\n",
       "Asia_Sri Lanka                             12\n",
       "Asia_Kuwait                                12\n",
       "Asia_Korea, Rep.                           12\n",
       "                                           ..\n",
       "Africa_Chad                                12\n",
       "Asia_Cambodia                              12\n",
       "Africa_Gabon                               12\n",
       "Africa_Namibia                             12\n",
       "Americas_Venezuela                         12\n",
       "Asia_Myanmar                               12\n",
       "Americas_Puerto Rico                       12\n",
       "Africa_Malawi                              12\n",
       "Africa_Rwanda                              12\n",
       "Africa_Niger                               12\n",
       "Africa_Benin                               12\n",
       "Africa_Somalia                             12\n",
       "Europe_Spain                               12\n",
       "Asia_Jordan                                11\n",
       "Americas_Colombia                          11\n",
       "Africa_Cote d'Ivoire                       11\n",
       "Africa_Congo, Dem. Rep.                    10\n",
       "Asia_Korea, Dem. Rep.                      10\n",
       "Americas_Canada                             9\n",
       "Africa_Central African Republic             8\n",
       "Asia_China                                  8\n",
       "Asia_china                                  4\n",
       "Africa_Central african republic             4\n",
       "_Canada                                     3\n",
       "    Asia_Korea, Dem. Rep.                   2\n",
       "Americas_Colombia                           2\n",
       "    Asia_Jordan                             1\n",
       "Africa_Cote d'Ivore                         1\n",
       "Africa_Congo, Democratic Republic           1\n",
       "Africa_Democratic Republic of the Congo     1\n",
       "Name: region, Length: 151, dtype: int64"
      ]
     },
     "execution_count": 27,
     "metadata": {},
     "output_type": "execute_result"
    }
   ],
   "source": [
    "#How many times does each unique region occur\n",
    "gapMinder['region'].value_counts()"
   ]
  },
  {
   "cell_type": "code",
   "execution_count": 30,
   "metadata": {
    "collapsed": true
   },
   "outputs": [],
   "source": [
    "#Explore this categorical variable. How many unique years are there? How many regions are measured in each year? \n",
    "#What is some summary information for each year?\n",
    "yr = gapMinder['year'] #NaN is counted as a year\n",
    "#Number of unique years\n",
    "numUniqueYrs = len(yr.unique())\n",
    "#Number of regions measured per year\n",
    "#qqqqqqqqqqqqqq"
   ]
  },
  {
   "cell_type": "code",
   "execution_count": 37,
   "metadata": {
    "collapsed": true
   },
   "outputs": [],
   "source": [
    "#Take a copy of our dataframe to work with for data cleaning\n",
    "gapMinder_copy = gapMinder.copy()"
   ]
  },
  {
   "cell_type": "code",
   "execution_count": 38,
   "metadata": {},
   "outputs": [
    {
     "data": {
      "text/html": [
       "<div>\n",
       "<style>\n",
       "    .dataframe thead tr:only-child th {\n",
       "        text-align: right;\n",
       "    }\n",
       "\n",
       "    .dataframe thead th {\n",
       "        text-align: left;\n",
       "    }\n",
       "\n",
       "    .dataframe tbody tr th {\n",
       "        vertical-align: top;\n",
       "    }\n",
       "</style>\n",
       "<table border=\"1\" class=\"dataframe\">\n",
       "  <thead>\n",
       "    <tr style=\"text-align: right;\">\n",
       "      <th></th>\n",
       "      <th>year</th>\n",
       "      <th>pop</th>\n",
       "      <th>life Exp</th>\n",
       "      <th>gdpPercap</th>\n",
       "      <th>region</th>\n",
       "    </tr>\n",
       "  </thead>\n",
       "  <tbody>\n",
       "    <tr>\n",
       "      <th>0</th>\n",
       "      <td>1952.0</td>\n",
       "      <td>8425333.0</td>\n",
       "      <td>28.801</td>\n",
       "      <td>779.445314</td>\n",
       "      <td>Asia_Afghanistan</td>\n",
       "    </tr>\n",
       "    <tr>\n",
       "      <th>1</th>\n",
       "      <td>1957.0</td>\n",
       "      <td>9240934.0</td>\n",
       "      <td>30.332</td>\n",
       "      <td>820.853030</td>\n",
       "      <td>Asia_Afghanistan</td>\n",
       "    </tr>\n",
       "    <tr>\n",
       "      <th>2</th>\n",
       "      <td>1957.0</td>\n",
       "      <td>9240934.0</td>\n",
       "      <td>30.332</td>\n",
       "      <td>820.853030</td>\n",
       "      <td>Asia_Afghanistan</td>\n",
       "    </tr>\n",
       "    <tr>\n",
       "      <th>3</th>\n",
       "      <td>1962.0</td>\n",
       "      <td>10267083.0</td>\n",
       "      <td>31.997</td>\n",
       "      <td>853.100710</td>\n",
       "      <td>Asia_Afghanistan</td>\n",
       "    </tr>\n",
       "    <tr>\n",
       "      <th>4</th>\n",
       "      <td>1962.0</td>\n",
       "      <td>NaN</td>\n",
       "      <td>31.997</td>\n",
       "      <td>NaN</td>\n",
       "      <td>Asia_Afghanistan</td>\n",
       "    </tr>\n",
       "  </tbody>\n",
       "</table>\n",
       "</div>"
      ],
      "text/plain": [
       "     year         pop  life Exp   gdpPercap            region\n",
       "0  1952.0   8425333.0    28.801  779.445314  Asia_Afghanistan\n",
       "1  1957.0   9240934.0    30.332  820.853030  Asia_Afghanistan\n",
       "2  1957.0   9240934.0    30.332  820.853030  Asia_Afghanistan\n",
       "3  1962.0  10267083.0    31.997  853.100710  Asia_Afghanistan\n",
       "4  1962.0         NaN    31.997         NaN  Asia_Afghanistan"
      ]
     },
     "execution_count": 38,
     "metadata": {},
     "output_type": "execute_result"
    }
   ],
   "source": [
    "gapMinder_copy.head()"
   ]
  },
  {
   "cell_type": "code",
   "execution_count": 40,
   "metadata": {},
   "outputs": [
    {
     "name": "stdout",
     "output_type": "stream",
     "text": [
      "<class 'pandas.core.frame.DataFrame'>\n",
      "RangeIndex: 1720 entries, 0 to 1719\n",
      "Data columns (total 5 columns):\n",
      "year         1717 non-null float64\n",
      "pop          1715 non-null float64\n",
      "life Exp     1719 non-null float64\n",
      "gdpPercap    1718 non-null float64\n",
      "region       1720 non-null object\n",
      "dtypes: float64(4), object(1)\n",
      "memory usage: 67.3+ KB\n"
     ]
    }
   ],
   "source": [
    "gapMinder_copy.info()"
   ]
  },
  {
   "cell_type": "code",
   "execution_count": 51,
   "metadata": {
    "collapsed": true
   },
   "outputs": [],
   "source": [
    "#Take out NaN from data\n",
    "gapMinder_copy = gapMinder_copy.dropna()"
   ]
  },
  {
   "cell_type": "code",
   "execution_count": 54,
   "metadata": {},
   "outputs": [
    {
     "name": "stdout",
     "output_type": "stream",
     "text": [
      "     year         pop  life Exp   gdpPercap            region\n",
      "0  1952.0   8425333.0    28.801  779.445314  Asia_Afghanistan\n",
      "1  1957.0   9240934.0    30.332  820.853030  Asia_Afghanistan\n",
      "2  1957.0   9240934.0    30.332  820.853030  Asia_Afghanistan\n",
      "3  1962.0  10267083.0    31.997  853.100710  Asia_Afghanistan\n",
      "4  1962.0         NaN    31.997         NaN  Asia_Afghanistan\n",
      "   year       pop  life Exp   gdpPercap            region\n",
      "0  1952   8425333    28.801  779.445314  Asia_Afghanistan\n",
      "1  1957   9240934    30.332  820.853030  Asia_Afghanistan\n",
      "2  1957   9240934    30.332  820.853030  Asia_Afghanistan\n",
      "3  1962  10267083    31.997  853.100710  Asia_Afghanistan\n",
      "5  1967  11537966    34.020  836.197138  Asia_Afghanistan\n"
     ]
    }
   ],
   "source": [
    "print(gapMinder.head())\n",
    "print(gapMinder_copy.head())"
   ]
  },
  {
   "cell_type": "code",
   "execution_count": 52,
   "metadata": {},
   "outputs": [
    {
     "name": "stdout",
     "output_type": "stream",
     "text": [
      "<class 'pandas.core.frame.DataFrame'>\n",
      "Int64Index: 1712 entries, 0 to 1719\n",
      "Data columns (total 5 columns):\n",
      "year         1712 non-null int64\n",
      "pop          1712 non-null int64\n",
      "life Exp     1712 non-null float64\n",
      "gdpPercap    1712 non-null float64\n",
      "region       1712 non-null object\n",
      "dtypes: float64(2), int64(2), object(1)\n",
      "memory usage: 80.2+ KB\n"
     ]
    }
   ],
   "source": [
    "#Want only integers instead of float\n",
    "gapMinder_copy['year'] = gapMinder_copy['year'].astype(int)\n",
    "gapMinder_copy.info() #float64 -> int64"
   ]
  },
  {
   "cell_type": "code",
   "execution_count": 53,
   "metadata": {},
   "outputs": [
    {
     "name": "stdout",
     "output_type": "stream",
     "text": [
      "<class 'pandas.core.frame.DataFrame'>\n",
      "Int64Index: 1712 entries, 0 to 1719\n",
      "Data columns (total 5 columns):\n",
      "year         1712 non-null int64\n",
      "pop          1712 non-null int64\n",
      "life Exp     1712 non-null float64\n",
      "gdpPercap    1712 non-null float64\n",
      "region       1712 non-null object\n",
      "dtypes: float64(2), int64(2), object(1)\n",
      "memory usage: 80.2+ KB\n"
     ]
    }
   ],
   "source": [
    "#Convert population float to integer\n",
    "gapMinder_copy['pop'] = gapMinder_copy['pop'].astype(int)\n",
    "gapMinder_copy.info() #float64 -> int64"
   ]
  },
  {
   "cell_type": "code",
   "execution_count": 57,
   "metadata": {},
   "outputs": [
    {
     "name": "stdout",
     "output_type": "stream",
     "text": [
      "<class 'pandas.core.frame.DataFrame'>\n",
      "Int64Index: 1712 entries, 0 to 1719\n",
      "Data columns (total 5 columns):\n",
      "year         1712 non-null int64\n",
      "pop          1712 non-null int64\n",
      "life Exp     1712 non-null float64\n",
      "gdpPercap    1712 non-null float64\n",
      "region       1712 non-null object\n",
      "dtypes: float64(2), int64(2), object(1)\n",
      "memory usage: 80.2+ KB\n"
     ]
    }
   ],
   "source": [
    "#Convert pop and year into integers in one line\n",
    "gapMinder_copy[['pop','year']] = gapMinder_copy[['pop','year']].astype(int)\n",
    "gapMinder_copy.info()"
   ]
  },
  {
   "cell_type": "code",
   "execution_count": 62,
   "metadata": {},
   "outputs": [
    {
     "data": {
      "text/html": [
       "<div>\n",
       "<style>\n",
       "    .dataframe thead tr:only-child th {\n",
       "        text-align: right;\n",
       "    }\n",
       "\n",
       "    .dataframe thead th {\n",
       "        text-align: left;\n",
       "    }\n",
       "\n",
       "    .dataframe tbody tr th {\n",
       "        vertical-align: top;\n",
       "    }\n",
       "</style>\n",
       "<table border=\"1\" class=\"dataframe\">\n",
       "  <thead>\n",
       "    <tr style=\"text-align: right;\">\n",
       "      <th></th>\n",
       "      <th>year</th>\n",
       "      <th>pop</th>\n",
       "      <th>life Exp</th>\n",
       "      <th>gdpPercap</th>\n",
       "      <th>region</th>\n",
       "    </tr>\n",
       "  </thead>\n",
       "  <tbody>\n",
       "    <tr>\n",
       "      <th>1710</th>\n",
       "      <td>1962</td>\n",
       "      <td>4277736</td>\n",
       "      <td>52.358</td>\n",
       "      <td>527.272182</td>\n",
       "      <td>Africa_Zimbabwe</td>\n",
       "    </tr>\n",
       "    <tr>\n",
       "      <th>1711</th>\n",
       "      <td>1967</td>\n",
       "      <td>4995432</td>\n",
       "      <td>53.995</td>\n",
       "      <td>569.795071</td>\n",
       "      <td>Africa_Zimbabwe</td>\n",
       "    </tr>\n",
       "    <tr>\n",
       "      <th>1712</th>\n",
       "      <td>1972</td>\n",
       "      <td>5861135</td>\n",
       "      <td>55.635</td>\n",
       "      <td>799.362176</td>\n",
       "      <td>Africa_Zimbabwe</td>\n",
       "    </tr>\n",
       "    <tr>\n",
       "      <th>1713</th>\n",
       "      <td>1977</td>\n",
       "      <td>6642107</td>\n",
       "      <td>57.674</td>\n",
       "      <td>685.587682</td>\n",
       "      <td>Africa_Zimbabwe</td>\n",
       "    </tr>\n",
       "    <tr>\n",
       "      <th>1714</th>\n",
       "      <td>1982</td>\n",
       "      <td>7636524</td>\n",
       "      <td>60.363</td>\n",
       "      <td>788.855041</td>\n",
       "      <td>Africa_Zimbabwe</td>\n",
       "    </tr>\n",
       "    <tr>\n",
       "      <th>1715</th>\n",
       "      <td>1987</td>\n",
       "      <td>9216418</td>\n",
       "      <td>62.351</td>\n",
       "      <td>706.157306</td>\n",
       "      <td>Africa_Zimbabwe</td>\n",
       "    </tr>\n",
       "    <tr>\n",
       "      <th>1716</th>\n",
       "      <td>1992</td>\n",
       "      <td>10704340</td>\n",
       "      <td>60.377</td>\n",
       "      <td>693.420786</td>\n",
       "      <td>Africa_Zimbabwe</td>\n",
       "    </tr>\n",
       "    <tr>\n",
       "      <th>1717</th>\n",
       "      <td>1997</td>\n",
       "      <td>11404948</td>\n",
       "      <td>46.809</td>\n",
       "      <td>792.449960</td>\n",
       "      <td>Africa_Zimbabwe</td>\n",
       "    </tr>\n",
       "    <tr>\n",
       "      <th>1718</th>\n",
       "      <td>2002</td>\n",
       "      <td>11926563</td>\n",
       "      <td>39.989</td>\n",
       "      <td>672.038623</td>\n",
       "      <td>Africa_Zimbabwe</td>\n",
       "    </tr>\n",
       "    <tr>\n",
       "      <th>1719</th>\n",
       "      <td>2007</td>\n",
       "      <td>12311143</td>\n",
       "      <td>43.487</td>\n",
       "      <td>469.709298</td>\n",
       "      <td>Africa_Zimbabwe</td>\n",
       "    </tr>\n",
       "  </tbody>\n",
       "</table>\n",
       "</div>"
      ],
      "text/plain": [
       "      year       pop  life Exp   gdpPercap           region\n",
       "1710  1962   4277736    52.358  527.272182  Africa_Zimbabwe\n",
       "1711  1967   4995432    53.995  569.795071  Africa_Zimbabwe\n",
       "1712  1972   5861135    55.635  799.362176  Africa_Zimbabwe\n",
       "1713  1977   6642107    57.674  685.587682  Africa_Zimbabwe\n",
       "1714  1982   7636524    60.363  788.855041  Africa_Zimbabwe\n",
       "1715  1987   9216418    62.351  706.157306  Africa_Zimbabwe\n",
       "1716  1992  10704340    60.377  693.420786  Africa_Zimbabwe\n",
       "1717  1997  11404948    46.809  792.449960  Africa_Zimbabwe\n",
       "1718  2002  11926563    39.989  672.038623  Africa_Zimbabwe\n",
       "1719  2007  12311143    43.487  469.709298  Africa_Zimbabwe"
      ]
     },
     "execution_count": 62,
     "metadata": {},
     "output_type": "execute_result"
    }
   ],
   "source": [
    "#Get first 15 rows of gapMinder updated \n",
    "gapMinder_copy[0:15]\n",
    "gapMinder_copy[:15]\n",
    "#Get last 10 rows of gapMinder copy\n",
    "gapMinder_copy[-10:]"
   ]
  },
  {
   "cell_type": "code",
   "execution_count": 66,
   "metadata": {},
   "outputs": [],
   "source": [
    "#To get year only:\n",
    "yr = gapMinder_copy['year'] \n",
    "yr = gapMinder_copy.year"
   ]
  },
  {
   "cell_type": "code",
   "execution_count": 75,
   "metadata": {},
   "outputs": [],
   "source": [
    "#Sort data by years, decreasing values of year\n",
    "dataYrSort = gapMinder_copy.sort_values(by='year',ascending=False)"
   ]
  },
  {
   "cell_type": "code",
   "execution_count": 74,
   "metadata": {},
   "outputs": [],
   "source": [
    "#Organize country by region, from A to Z\n",
    "dataRegionSort = gapMinder_copy.sort_values(by='region')"
   ]
  },
  {
   "cell_type": "markdown",
   "metadata": {},
   "source": [
    "### This section is about summarizing the data"
   ]
  },
  {
   "cell_type": "code",
   "execution_count": 78,
   "metadata": {},
   "outputs": [
    {
     "data": {
      "text/plain": [
       "29542868.44100467"
      ]
     },
     "execution_count": 78,
     "metadata": {},
     "output_type": "execute_result"
    }
   ],
   "source": [
    "#Get mean population across the entire time in all of the regions\n",
    "gapMinder_copy['pop'].mean()\n",
    "#Each country would have this amount "
   ]
  },
  {
   "cell_type": "code",
   "execution_count": 82,
   "metadata": {},
   "outputs": [],
   "source": [
    "#Average population by region for all years\n",
    "avPopAllYr = gapMinder_copy[['region','pop']].groupby('region').mean()"
   ]
  },
  {
   "cell_type": "code",
   "execution_count": 88,
   "metadata": {},
   "outputs": [],
   "source": [
    "#Average population by region and year\n",
    "#This isn't an average because only one entry for each country and year\n",
    "#This does not work w/out .mean() or .max() or .min()\n",
    "avPopPerYr = gapMinder_copy[['region','pop','year']].groupby(['region','year']).mean()"
   ]
  },
  {
   "cell_type": "code",
   "execution_count": 89,
   "metadata": {},
   "outputs": [
    {
     "data": {
      "text/html": [
       "<div>\n",
       "<style>\n",
       "    .dataframe thead tr:only-child th {\n",
       "        text-align: right;\n",
       "    }\n",
       "\n",
       "    .dataframe thead th {\n",
       "        text-align: left;\n",
       "    }\n",
       "\n",
       "    .dataframe tbody tr th {\n",
       "        vertical-align: top;\n",
       "    }\n",
       "</style>\n",
       "<table border=\"1\" class=\"dataframe\">\n",
       "  <thead>\n",
       "    <tr style=\"text-align: right;\">\n",
       "      <th></th>\n",
       "      <th></th>\n",
       "      <th>pop</th>\n",
       "    </tr>\n",
       "    <tr>\n",
       "      <th>region</th>\n",
       "      <th>year</th>\n",
       "      <th></th>\n",
       "    </tr>\n",
       "  </thead>\n",
       "  <tbody>\n",
       "    <tr>\n",
       "      <th>Asia_Jordan</th>\n",
       "      <th>2007</th>\n",
       "      <td>6053193</td>\n",
       "    </tr>\n",
       "    <tr>\n",
       "      <th rowspan=\"2\" valign=\"top\">Asia_Korea, Dem. Rep.</th>\n",
       "      <th>1952</th>\n",
       "      <td>8865488</td>\n",
       "    </tr>\n",
       "    <tr>\n",
       "      <th>1957</th>\n",
       "      <td>9411381</td>\n",
       "    </tr>\n",
       "    <tr>\n",
       "      <th rowspan=\"12\" valign=\"top\">Africa_Algeria</th>\n",
       "      <th>1952</th>\n",
       "      <td>9279525</td>\n",
       "    </tr>\n",
       "    <tr>\n",
       "      <th>1957</th>\n",
       "      <td>10270856</td>\n",
       "    </tr>\n",
       "    <tr>\n",
       "      <th>1962</th>\n",
       "      <td>11000948</td>\n",
       "    </tr>\n",
       "    <tr>\n",
       "      <th>1967</th>\n",
       "      <td>12760499</td>\n",
       "    </tr>\n",
       "    <tr>\n",
       "      <th>1972</th>\n",
       "      <td>14760787</td>\n",
       "    </tr>\n",
       "    <tr>\n",
       "      <th>1977</th>\n",
       "      <td>17152804</td>\n",
       "    </tr>\n",
       "    <tr>\n",
       "      <th>1982</th>\n",
       "      <td>20033753</td>\n",
       "    </tr>\n",
       "    <tr>\n",
       "      <th>1987</th>\n",
       "      <td>23254956</td>\n",
       "    </tr>\n",
       "    <tr>\n",
       "      <th>1992</th>\n",
       "      <td>26298373</td>\n",
       "    </tr>\n",
       "    <tr>\n",
       "      <th>1997</th>\n",
       "      <td>29072015</td>\n",
       "    </tr>\n",
       "    <tr>\n",
       "      <th>2002</th>\n",
       "      <td>31287142</td>\n",
       "    </tr>\n",
       "    <tr>\n",
       "      <th>2007</th>\n",
       "      <td>33333216</td>\n",
       "    </tr>\n",
       "    <tr>\n",
       "      <th rowspan=\"12\" valign=\"top\">Africa_Angola</th>\n",
       "      <th>1952</th>\n",
       "      <td>4232095</td>\n",
       "    </tr>\n",
       "    <tr>\n",
       "      <th>1957</th>\n",
       "      <td>4561361</td>\n",
       "    </tr>\n",
       "    <tr>\n",
       "      <th>1962</th>\n",
       "      <td>4826015</td>\n",
       "    </tr>\n",
       "    <tr>\n",
       "      <th>1967</th>\n",
       "      <td>5247469</td>\n",
       "    </tr>\n",
       "    <tr>\n",
       "      <th>1972</th>\n",
       "      <td>5894858</td>\n",
       "    </tr>\n",
       "    <tr>\n",
       "      <th>1977</th>\n",
       "      <td>6162675</td>\n",
       "    </tr>\n",
       "    <tr>\n",
       "      <th>1982</th>\n",
       "      <td>7016384</td>\n",
       "    </tr>\n",
       "    <tr>\n",
       "      <th>1987</th>\n",
       "      <td>7874230</td>\n",
       "    </tr>\n",
       "    <tr>\n",
       "      <th>1992</th>\n",
       "      <td>8735988</td>\n",
       "    </tr>\n",
       "    <tr>\n",
       "      <th>1997</th>\n",
       "      <td>9875024</td>\n",
       "    </tr>\n",
       "    <tr>\n",
       "      <th>2002</th>\n",
       "      <td>10866106</td>\n",
       "    </tr>\n",
       "    <tr>\n",
       "      <th>2007</th>\n",
       "      <td>12420476</td>\n",
       "    </tr>\n",
       "    <tr>\n",
       "      <th rowspan=\"3\" valign=\"top\">Africa_Benin</th>\n",
       "      <th>1952</th>\n",
       "      <td>1738315</td>\n",
       "    </tr>\n",
       "    <tr>\n",
       "      <th>1957</th>\n",
       "      <td>1925173</td>\n",
       "    </tr>\n",
       "    <tr>\n",
       "      <th>1962</th>\n",
       "      <td>2151895</td>\n",
       "    </tr>\n",
       "    <tr>\n",
       "      <th>...</th>\n",
       "      <th>...</th>\n",
       "      <td>...</td>\n",
       "    </tr>\n",
       "    <tr>\n",
       "      <th rowspan=\"3\" valign=\"top\">Europe_United Kingdom</th>\n",
       "      <th>1997</th>\n",
       "      <td>58808266</td>\n",
       "    </tr>\n",
       "    <tr>\n",
       "      <th>2002</th>\n",
       "      <td>59912431</td>\n",
       "    </tr>\n",
       "    <tr>\n",
       "      <th>2007</th>\n",
       "      <td>60776238</td>\n",
       "    </tr>\n",
       "    <tr>\n",
       "      <th rowspan=\"12\" valign=\"top\">Oceania_Australia</th>\n",
       "      <th>1952</th>\n",
       "      <td>8691212</td>\n",
       "    </tr>\n",
       "    <tr>\n",
       "      <th>1957</th>\n",
       "      <td>9712569</td>\n",
       "    </tr>\n",
       "    <tr>\n",
       "      <th>1962</th>\n",
       "      <td>10794968</td>\n",
       "    </tr>\n",
       "    <tr>\n",
       "      <th>1967</th>\n",
       "      <td>11872264</td>\n",
       "    </tr>\n",
       "    <tr>\n",
       "      <th>1972</th>\n",
       "      <td>13177000</td>\n",
       "    </tr>\n",
       "    <tr>\n",
       "      <th>1977</th>\n",
       "      <td>14074100</td>\n",
       "    </tr>\n",
       "    <tr>\n",
       "      <th>1982</th>\n",
       "      <td>15184200</td>\n",
       "    </tr>\n",
       "    <tr>\n",
       "      <th>1987</th>\n",
       "      <td>16257249</td>\n",
       "    </tr>\n",
       "    <tr>\n",
       "      <th>1992</th>\n",
       "      <td>17481977</td>\n",
       "    </tr>\n",
       "    <tr>\n",
       "      <th>1997</th>\n",
       "      <td>18565243</td>\n",
       "    </tr>\n",
       "    <tr>\n",
       "      <th>2002</th>\n",
       "      <td>19546792</td>\n",
       "    </tr>\n",
       "    <tr>\n",
       "      <th>2007</th>\n",
       "      <td>20434176</td>\n",
       "    </tr>\n",
       "    <tr>\n",
       "      <th rowspan=\"12\" valign=\"top\">Oceania_New Zealand</th>\n",
       "      <th>1952</th>\n",
       "      <td>1994794</td>\n",
       "    </tr>\n",
       "    <tr>\n",
       "      <th>1957</th>\n",
       "      <td>2229407</td>\n",
       "    </tr>\n",
       "    <tr>\n",
       "      <th>1962</th>\n",
       "      <td>2488550</td>\n",
       "    </tr>\n",
       "    <tr>\n",
       "      <th>1967</th>\n",
       "      <td>2728150</td>\n",
       "    </tr>\n",
       "    <tr>\n",
       "      <th>1972</th>\n",
       "      <td>2929100</td>\n",
       "    </tr>\n",
       "    <tr>\n",
       "      <th>1977</th>\n",
       "      <td>3164900</td>\n",
       "    </tr>\n",
       "    <tr>\n",
       "      <th>1982</th>\n",
       "      <td>3210650</td>\n",
       "    </tr>\n",
       "    <tr>\n",
       "      <th>1987</th>\n",
       "      <td>3317166</td>\n",
       "    </tr>\n",
       "    <tr>\n",
       "      <th>1992</th>\n",
       "      <td>3437674</td>\n",
       "    </tr>\n",
       "    <tr>\n",
       "      <th>1997</th>\n",
       "      <td>3676187</td>\n",
       "    </tr>\n",
       "    <tr>\n",
       "      <th>2002</th>\n",
       "      <td>3908037</td>\n",
       "    </tr>\n",
       "    <tr>\n",
       "      <th>2007</th>\n",
       "      <td>4115771</td>\n",
       "    </tr>\n",
       "    <tr>\n",
       "      <th rowspan=\"3\" valign=\"top\">_Canada</th>\n",
       "      <th>1952</th>\n",
       "      <td>14785584</td>\n",
       "    </tr>\n",
       "    <tr>\n",
       "      <th>1957</th>\n",
       "      <td>17010154</td>\n",
       "    </tr>\n",
       "    <tr>\n",
       "      <th>1962</th>\n",
       "      <td>18985849</td>\n",
       "    </tr>\n",
       "  </tbody>\n",
       "</table>\n",
       "<p>1704 rows × 1 columns</p>\n",
       "</div>"
      ],
      "text/plain": [
       "                                     pop\n",
       "region                    year          \n",
       "    Asia_Jordan           2007   6053193\n",
       "    Asia_Korea, Dem. Rep. 1952   8865488\n",
       "                          1957   9411381\n",
       "Africa_Algeria            1952   9279525\n",
       "                          1957  10270856\n",
       "                          1962  11000948\n",
       "                          1967  12760499\n",
       "                          1972  14760787\n",
       "                          1977  17152804\n",
       "                          1982  20033753\n",
       "                          1987  23254956\n",
       "                          1992  26298373\n",
       "                          1997  29072015\n",
       "                          2002  31287142\n",
       "                          2007  33333216\n",
       "Africa_Angola             1952   4232095\n",
       "                          1957   4561361\n",
       "                          1962   4826015\n",
       "                          1967   5247469\n",
       "                          1972   5894858\n",
       "                          1977   6162675\n",
       "                          1982   7016384\n",
       "                          1987   7874230\n",
       "                          1992   8735988\n",
       "                          1997   9875024\n",
       "                          2002  10866106\n",
       "                          2007  12420476\n",
       "Africa_Benin              1952   1738315\n",
       "                          1957   1925173\n",
       "                          1962   2151895\n",
       "...                                  ...\n",
       "Europe_United Kingdom     1997  58808266\n",
       "                          2002  59912431\n",
       "                          2007  60776238\n",
       "Oceania_Australia         1952   8691212\n",
       "                          1957   9712569\n",
       "                          1962  10794968\n",
       "                          1967  11872264\n",
       "                          1972  13177000\n",
       "                          1977  14074100\n",
       "                          1982  15184200\n",
       "                          1987  16257249\n",
       "                          1992  17481977\n",
       "                          1997  18565243\n",
       "                          2002  19546792\n",
       "                          2007  20434176\n",
       "Oceania_New Zealand       1952   1994794\n",
       "                          1957   2229407\n",
       "                          1962   2488550\n",
       "                          1967   2728150\n",
       "                          1972   2929100\n",
       "                          1977   3164900\n",
       "                          1982   3210650\n",
       "                          1987   3317166\n",
       "                          1992   3437674\n",
       "                          1997   3676187\n",
       "                          2002   3908037\n",
       "                          2007   4115771\n",
       "_Canada                   1952  14785584\n",
       "                          1957  17010154\n",
       "                          1962  18985849\n",
       "\n",
       "[1704 rows x 1 columns]"
      ]
     },
     "execution_count": 89,
     "metadata": {},
     "output_type": "execute_result"
    }
   ],
   "source": [
    "avPopPerYr"
   ]
  },
  {
   "cell_type": "code",
   "execution_count": 90,
   "metadata": {
    "collapsed": true
   },
   "outputs": [],
   "source": [
    "#Who had the biggest increase in population\n",
    "#Interested in proportion: what percent growth did countries have\n",
    "\n",
    "\n",
    "#Just use the years 1952 and 2007\n",
    "#This would exclude countries w/out info from these years\n",
    "\n",
    "#Now we have a data frame that has region, pop from min yr and pop from max yr\n",
    "\n",
    "#Subtract min from max and divide by pop from min yr\n",
    "#Have relative increase in pop for each region\n",
    "\n",
    "#Sort that output in descending order; top of list has biggest increase in pop (ie answer)\n",
    "\n"
   ]
  },
  {
   "cell_type": "markdown",
   "metadata": {},
   "source": [
    "\n",
    "# Plotting!"
   ]
  },
  {
   "cell_type": "code",
   "execution_count": 92,
   "metadata": {
    "collapsed": true
   },
   "outputs": [],
   "source": [
    "#Import packages for plotting\n",
    "#to install packages !pip install seaborn or !pip3 install seaborn\n",
    "import matplotlib.pyplot as plt\n",
    "%matplotlib inline\n",
    "\n",
    "import seaborn as sns\n",
    "sns.set()"
   ]
  },
  {
   "cell_type": "code",
   "execution_count": 95,
   "metadata": {},
   "outputs": [
    {
     "data": {
      "text/plain": [
       "<matplotlib.text.Text at 0x1174659b0>"
      ]
     },
     "execution_count": 95,
     "metadata": {},
     "output_type": "execute_result"
    },
    {
     "data": {
      "image/png": "[encoded data removed]",
      "text/plain": [
       "<matplotlib.figure.Figure at 0x117382eb8>"
      ]
     },
     "metadata": {},
     "output_type": "display_data"
    }
   ],
   "source": [
    "#Plot life expectancy as a histogram\n",
    "plt.hist(gapMinder_copy['life Exp'])\n",
    "plt.xlabel('Life Expectancy')\n",
    "plt.ylabel('Count')"
   ]
  },
  {
   "cell_type": "code",
   "execution_count": 96,
   "metadata": {},
   "outputs": [
    {
     "data": {
      "text/plain": [
       "<matplotlib.text.Text at 0x11745db00>"
      ]
     },
     "execution_count": 96,
     "metadata": {},
     "output_type": "execute_result"
    },
    {
     "data": {
      "image/png": "[encoded data removed]",
      "text/plain": [
       "<matplotlib.figure.Figure at 0x112045b70>"
      ]
     },
     "metadata": {},
     "output_type": "display_data"
    }
   ],
   "source": [
    "#Do a boxplot of life expectancy\n",
    "sns.boxplot(x='year',y='life Exp',data=gapMinder_copy)\n",
    "plt.xlabel(\"Year\")\n",
    "plt.ylabel(\"Life Expectancy\")"
   ]
  },
  {
   "cell_type": "code",
   "execution_count": 98,
   "metadata": {},
   "outputs": [
    {
     "data": {
      "text/plain": [
       "<matplotlib.text.Text at 0x1179b3a90>"
      ]
     },
     "execution_count": 98,
     "metadata": {},
     "output_type": "execute_result"
    },
    {
     "data": {
      "image/png": "[encoded data removed]",
      "text/plain": [
       "<matplotlib.figure.Figure at 0x1179cb0b8>"
      ]
     },
     "metadata": {},
     "output_type": "display_data"
    }
   ],
   "source": [
    "#Scatterplot of per capita income vs life expectancy\n",
    "#Plot is skewed because of large outliers\n",
    "#Could zoom in by adjusting range of x \n",
    "plt.scatter(gapMinder_copy['gdpPercap'],gapMinder_copy['life Exp'])\n",
    "plt.xlabel(\"GDP per Cap\")\n",
    "plt.ylabel(\"Life Expectancy\")\n",
    "\n",
    "#Plot is skewed because of large outliers\n",
    "#Could zoom in by adjusting range of x"
   ]
  },
  {
   "cell_type": "code",
   "execution_count": 100,
   "metadata": {},
   "outputs": [
    {
     "data": {
      "image/png": "[encoded data removed]",
      "text/plain": [
       "<matplotlib.figure.Figure at 0x117cd2240>"
      ]
     },
     "metadata": {},
     "output_type": "display_data"
    }
   ],
   "source": [
    "#Scatterplot of per capita income vs life expectancy\n",
    "#Plot is skewed because of large outliers\n",
    "#Could zoom in by adjusting range of x \n",
    "#Log it!\n",
    "plt.scatter(gapMinder_copy['gdpPercap'],gapMinder_copy['life Exp'])\n",
    "plt.xscale('log')\n",
    "plt.xlabel(\"GDP per Cap\")\n",
    "plt.ylabel(\"Life Expectancy\")\n",
    "\n",
    "#To save this plot:\n",
    "plt.savefig(\"GDP-vs-LifeExpectancy.png\")"
   ]
  },
  {
   "cell_type": "code",
   "execution_count": null,
   "metadata": {
    "collapsed": true
   },
   "outputs": [],
   "source": []
  }
 ],
 "metadata": {
  "kernelspec": {
   "display_name": "Python 3",
   "language": "python",
   "name": "python3"
  },
  "language_info": {
   "codemirror_mode": {
    "name": "ipython",
    "version": 3
   },
   "file_extension": ".py",
   "mimetype": "text/x-python",
   "name": "python",
   "nbconvert_exporter": "python",
   "pygments_lexer": "ipython3",
   "version": "3.6.1"
  }
 },
 "nbformat": 4,
 "nbformat_minor": 2
}
